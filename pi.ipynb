{
 "cells": [
  {
   "cell_type": "markdown",
   "metadata": {},
   "source": [
    "# $\\pi$"
   ]
  },
  {
   "cell_type": "markdown",
   "metadata": {},
   "source": [
    "U ovoj bilježnici proučit ćemo nekoliko formula za slavnu matematičku konstantu $\\pi$, i usporediti njihovu konvergenciju."
   ]
  },
  {
   "cell_type": "markdown",
   "metadata": {},
   "source": [
    "## Arhimed (stari vijek)"
   ]
  },
  {
   "cell_type": "markdown",
   "metadata": {},
   "source": [
    "Prvi algoritam za računanje $\\pi$ je dao Arhimed (oko 250. pr. Kr.), koristeći iduću zanimljivu ideju. Promotrimo grafove:"
   ]
  },
  {
   "cell_type": "code",
   "execution_count": 12,
   "metadata": {},
   "outputs": [
    {
     "data": {
      "application/vnd.jupyter.widget-view+json": {
       "model_id": "fd0db29144b64975b194b8e838b3c8e7",
       "version_major": 2,
       "version_minor": 0
      },
      "text/plain": [
       "aW50ZXJhY3RpdmUoY2hpbGRyZW49KEludFNsaWRlcih2YWx1ZT0zLCBkZXNjcmlwdGlvbj11J24nLCBtYXg9MjAsIG1pbj0zKSwgT3V0cHV0KCkpLCBfZG9tX2NsYXNzZXM9KHUnd2lkZ2V0LWnigKY=\n"
      ]
     },
     "metadata": {},
     "output_type": "display_data"
    }
   ],
   "source": [
    "from __future__ import print_function\n",
    "from ipywidgets import interact, interactive, fixed, interact_manual\n",
    "import ipywidgets as widgets\n",
    "\n",
    "import matplotlib.pyplot as plt\n",
    "import matplotlib.patches as mpatches\n",
    "from matplotlib.collections import PatchCollection\n",
    "import numpy as np\n",
    "%matplotlib inline\n",
    "\n",
    "#NACRTAJ GRAFOVe\n",
    "def crtaj(n):\n",
    "    \"Ova funkcija crta krug i njemu upisani i opisani 3*2^n-terokut.\"\n",
    "    k = n\n",
    "    #Ovdje koristimo pi samo radi jednostavnosti\n",
    "    alpha = np.pi/k\n",
    "    print(k)\n",
    "    \n",
    "    fig, ax = plt.subplots()\n",
    "    # create 3x3 grid to plot the artists\n",
    "    grid = np.mgrid[0.2:0.8:10j, 0.2:0.9:10j].reshape(2, -1).T\n",
    "\n",
    "    patches = []\n",
    "\n",
    "    #dodaj krug\n",
    "    circle = mpatches.Circle(grid[0], 0.1, ec=\"none\")\n",
    "    patches.append(circle)\n",
    "\n",
    "    #dodaj opisani n-terokut\n",
    "    polygon = mpatches.RegularPolygon(grid[0], k, 0.1/np.cos(alpha))\n",
    "    patches.append(polygon)\n",
    "\n",
    "    #dodaj upisani n-terokut\n",
    "    polygon = mpatches.RegularPolygon(grid[0], k, 0.1)\n",
    "    patches.append(polygon)\n",
    "\n",
    "    colors = np.linspace(0, 1, len(patches))\n",
    "    collection = PatchCollection(patches, cmap=plt.cm.hsv, alpha=0.4)\n",
    "    collection.set_array(np.array(colors))\n",
    "    ax.add_collection(collection)\n",
    "\n",
    "    plt.axis('equal')\n",
    "    plt.gca().set_aspect('equal', adjustable='box')\n",
    "    plt.axis('off')\n",
    "    plt.tight_layout()\n",
    "\n",
    "    plt.show()\n",
    "    return;\n",
    "\n",
    "interact(crtaj, n=widgets.IntSlider(min=3,max=20,step=1,value=3));"
   ]
  },
  {
   "cell_type": "markdown",
   "metadata": {},
   "source": [
    "Vidimo da će se opsezi $n$-terokuta proizvoljno blizu približiti opsegu kruga. Opseg n-terokuta $n*2R\\sin\\left(\\frac{\\pi}{n}\\right)$ geometrijski vidimo da teži u $2R\\pi$. Ustvari, ovo je samo slavni limes $\\lim\\limits_{x\\to 0} \\frac{\\sin x}{x}$ u dvije tisuće godina starom izdanju. No, razlog zašto ovo daje efektivni algoritam za računanje $\\pi$ je (naravno) taj što nam *ne treba* $\\pi$ unaprijed! Možemo koristiti formulu $\\sin \\alpha = \\sqrt{\\frac{1-\\cos 2\\alpha}{2}}$ te tako dobivati sve manje kutove i aproksimativno računati limes.\n",
    "\n",
    "Arhimed je ovom metodom ustvrdio nejednakost $\\frac{223}{71}<\\pi<\\frac{22}{7}$, gdje je gornja ograda dobro poznata aproksimacija od $\\pi$. Ovo je bila glavna metoda računanja aproksimacija za $\\pi$ za tisućljeće i pol! Arhimedov račun kreće od jednakostraničnog trokuta (dakle $n=3$) te nastavlja raspolovljavanjem. Promotrimo rezultate Arhimedove metode:"
   ]
  },
  {
   "cell_type": "code",
   "execution_count": 20,
   "metadata": {},
   "outputs": [
    {
     "data": {
      "application/vnd.jupyter.widget-view+json": {
       "model_id": "2e0bf44858c94f3190047540ffa858d5",
       "version_major": 2,
       "version_minor": 0
      },
      "text/plain": [
       "aW50ZXJhY3RpdmUoY2hpbGRyZW49KEludFNsaWRlcih2YWx1ZT0wLCBkZXNjcmlwdGlvbj11J24nLCBtYXg9MTApLCBPdXRwdXQoKSksIF9kb21fY2xhc3Nlcz0odSd3aWRnZXQtaW50ZXJhY3TigKY=\n"
      ]
     },
     "metadata": {},
     "output_type": "display_data"
    },
    {
     "name": "stdout",
     "output_type": "stream",
     "text": [
      "<function calc at 0x09ABCC70>\n"
     ]
    }
   ],
   "source": [
    "import sympy as sp\n",
    "sp.init_printing()\n",
    "\n",
    "def sn(n):\n",
    "    k = 3*2**n\n",
    "    if k == 3:\n",
    "        return sp.sin(sp.pi/3)\n",
    "    else:\n",
    "        cs = sp.sqrt(1-sn(n-1)**2) #pitagorin poucak\n",
    "        return sp.sqrt((1-cs)/2)\n",
    "\n",
    "def calc(n):\n",
    "    #convert sympy to latex\n",
    "    str = sp.latex(3*2**n*sn(n))\n",
    "    str = '$' + str + '$'\n",
    "\n",
    "    #cheat: s matplotlib iscrtaj latex jer neće drugačije\n",
    "    import matplotlib.pyplot as plt\n",
    "    %matplotlib inline\n",
    "\n",
    "    fig = plt.figure()\n",
    "    fig.suptitle(str, fontsize=14+n, fontweight='bold')\n",
    "\n",
    "    ax = fig.add_subplot(111)\n",
    "    fig.set_size_inches(0.05, 0.05, forward=True)\n",
    "    plt.axis('off')\n",
    "\n",
    "    plt.show()\n",
    "    print(sp.N(3*2**n*sn(n)))\n",
    "    return;\n",
    "\n",
    "interact(calc, n=widgets.IntSlider(min=0,max=10,step=1,value=0));"
   ]
  },
  {
   "cell_type": "code",
   "execution_count": 176,
   "metadata": {},
   "outputs": [
    {
     "data": {
      "image/png": "[encoded data removed]",
      "text/plain": [
       "<matplotlib.figure.Figure at 0xb4d5eb0>"
      ]
     },
     "metadata": {},
     "output_type": "display_data"
    }
   ],
   "source": [
    "import matplotlib.pyplot as plt\n",
    "import numpy as np\n",
    "\n",
    "def rez(n):\n",
    "    return 3*2**n*sn(n);\n",
    "nprez = np.vectorize(rez)\n",
    "\n",
    "fig, ax = plt.subplots()\n",
    "plt.axhline(y=np.pi, xmin=0, xmax=1, hold=None, linestyle='--')\n",
    "ax.plot(np.arange(10), nprez(np.arange(10)))\n",
    "ax.legend(loc=9)"
   ]
  },
  {
   "cell_type": "markdown",
   "metadata": {},
   "source": [
    "Za $n=10$ dobivamo $\\pi$ na 5 decimala što ukazuje na to da je konvergencija dobra. To je također ilustrirano gornjim grafom.\n",
    "Naravno, zbog uzastopnog računa drugog korijena ova metoda je složena i postići veliku preciznost ovom metodom se čini uzaludno. *Ipak*, ovo je ista metoda kojom je Ludolph van Ceulen računao $\\pi$ do $35$ decimala, po čemu je $\\pi$ nekad zvan i *Ludolphov broj* (da dobije tu točnost morao je koristit $2^{62}$-terokut. U nedostatku pametnog posla, 1630, je ova aproksimacija još poboljšana na 38 decimala (za što je pak trebalo cca. $10^{40}$-terokut). Time vidimo i da je konvergencija otprilike logaritamska u broju stranica!"
   ]
  },
  {
   "cell_type": "markdown",
   "metadata": {},
   "source": [
    "## Kerala (srednji vijek)"
   ]
  },
  {
   "cell_type": "markdown",
   "metadata": {},
   "source": [
    "Tek potkraj srednjeg vijeka je Indijska škola matematike iz Kerale (Indija) unaprijedila ove metode otkrivanjem beskonačnih redova za trigonometrijske funkcije. To ih je dovelo do otkrića npr. Leibnizovog reda 200 godina prije, ali zapad nije dugo bio upoznat s njihovim otkrićima."
   ]
  },
  {
   "cell_type": "code",
   "execution_count": 53,
   "metadata": {},
   "outputs": [
    {
     "name": "stdout",
     "output_type": "stream",
     "text": [
      "     3    5    7    9         \n",
      "    x    x    x    x     ⎛ 10⎞\n",
      "x - ── + ── - ── + ── + O⎝x  ⎠\n",
      "    3    5    7    9          \n"
     ]
    }
   ],
   "source": [
    "import sympy as sp\n",
    "sp.init_printing()\n",
    "\n",
    "n=10\n",
    "x=sp.Symbol('x')\n",
    "sp.series(sp.atan(x),x,0,n)"
   ]
  },
  {
   "cell_type": "markdown",
   "metadata": {},
   "source": [
    "Pokušajmo evaluirati taj red. U idućim linijama su dana dva *pomičnika*(!?) u kojima se mogu prilagoditi broj članova reda $n$ i vrijednost u kojoj ga evaluiramo $x$. Kao što je dobro znano, red divergira za $x>1$. (Ovdje je interval $[0,1]$ podijeljen na 100 dijelova.)"
   ]
  },
  {
   "cell_type": "code",
   "execution_count": 130,
   "metadata": {},
   "outputs": [
    {
     "data": {
      "application/vnd.jupyter.widget-view+json": {
       "model_id": "dad418d754a149668f7c8724a243cd45",
       "version_major": 2,
       "version_minor": 0
      },
      "text/plain": [
       "aW50ZXJhY3RpdmUoY2hpbGRyZW49KEludFNsaWRlcih2YWx1ZT0xLCBkZXNjcmlwdGlvbj11J3gnLCBtaW49MSksIEludFNsaWRlcih2YWx1ZT0xLCBkZXNjcmlwdGlvbj11J24nLCBtaW49MSnigKY=\n"
      ]
     },
     "metadata": {},
     "output_type": "display_data"
    },
    {
     "data": {
      "text/plain": [
       "0.7853981633974483"
      ]
     },
     "execution_count": 130,
     "metadata": {},
     "output_type": "execute_result"
    }
   ],
   "source": [
    "import numpy as np\n",
    "\n",
    "def arctan(x,n):\n",
    "    x /= 100.;\n",
    "    s = 0;\n",
    "    p = x;\n",
    "    for i in range(1,n):\n",
    "        s += p;\n",
    "        p = -p*x*x*(2*i-1)/(2*i+1)\n",
    "    print(s)\n",
    "    return;\n",
    "\n",
    "interact(arctan, x=widgets.IntSlider(min=1,max=100,step=1,value=1), n=widgets.IntSlider(min=1,max=100,step=1,value=1));\n",
    "np.pi/4"
   ]
  },
  {
   "cell_type": "markdown",
   "metadata": {},
   "source": [
    "Za usporedbu pri kraju smo napisali vrijednost $\\frac{\\pi}{4}$ eksplicitno izračunatu. Vidimo da je konvergencija jako spora. Također se primjećuje zanimljiv fenomen kako pomičemo $n$ - vrijednost se dosta mijenja između parnih i neparnih $n$. Razlog je to što je red alternirajući.\n",
    "\n",
    "Red jako sporo konvergira za rubni slučaj $x=1$. Pogledajmo još dva zanimljiva argumenta od $\\arctan x$:\n",
    "\n",
    "$\\frac{1}{\\sqrt{3}}$, $2-\\sqrt{3}$ i iskoristimo gornji kod za aproksimaciju."
   ]
  },
  {
   "cell_type": "code",
   "execution_count": 122,
   "metadata": {},
   "outputs": [
    {
     "name": "stdout",
     "output_type": "stream",
     "text": [
      "pi/6\n",
      "0.577350269189626\n"
     ]
    },
    {
     "data": {
      "application/vnd.jupyter.widget-view+json": {
       "model_id": "ecbf564be84549be987f202919705393",
       "version_major": 2,
       "version_minor": 0
      },
      "text/plain": [
       "aW50ZXJhY3RpdmUoY2hpbGRyZW49KEZsb2F0U2xpZGVyKHZhbHVlPTU3LjcsIGRlc2NyaXB0aW9uPXUneCcsIG1heD0xNzMuMTAwMDAwMDAwMDAwMDIsIG1pbj0tNTcuNyksIEludFNsaWRlcijigKY=\n"
      ]
     },
     "metadata": {},
     "output_type": "display_data"
    },
    {
     "data": {
      "text/plain": [
       "0.523598775598299"
      ]
     },
     "execution_count": 122,
     "metadata": {},
     "output_type": "execute_result"
    }
   ],
   "source": [
    "#računamo aproksimaciju od arctan(1/sqrt(3)) - za 1/sqrt(3)=0.577 treba ispasti cca 0.5235\n",
    "print(sp.atan(1/sp.sqrt(3)))\n",
    "print(1/sp.sqrt(3).evalf())\n",
    "interact(arctan, x=57.7, n=widgets.IntSlider(min=1,max=100,step=1,value=1));\n",
    "sp.atan(1/sp.sqrt(3)).evalf()"
   ]
  },
  {
   "cell_type": "code",
   "execution_count": 128,
   "metadata": {},
   "outputs": [
    {
     "name": "stdout",
     "output_type": "stream",
     "text": [
      "pi/12\n",
      "0.267949192431123\n"
     ]
    },
    {
     "data": {
      "application/vnd.jupyter.widget-view+json": {
       "model_id": "89f718519f1f48368eeb84131ff68ae5",
       "version_major": 2,
       "version_minor": 0
      },
      "text/plain": [
       "aW50ZXJhY3RpdmUoY2hpbGRyZW49KEZsb2F0U2xpZGVyKHZhbHVlPTI2Ljc5NSwgZGVzY3JpcHRpb249dSd4JywgbWF4PTgwLjM4NSwgbWluPS0yNi43OTUpLCBJbnRTbGlkZXIodmFsdWU9MSzigKY=\n"
      ]
     },
     "metadata": {},
     "output_type": "display_data"
    },
    {
     "data": {
      "text/plain": [
       "0.261799387799150"
      ]
     },
     "execution_count": 128,
     "metadata": {},
     "output_type": "execute_result"
    }
   ],
   "source": [
    "#računamo aproksimaciju od arctan(2-sqrt(3)) - za 1/sqrt(3)=0.577 treba ispasti cca 0.5235\n",
    "print(sp.atan(2-sp.sqrt(3)))\n",
    "print(2-sp.sqrt(3).evalf())\n",
    "interact(arctan, x=26.795, n=widgets.IntSlider(min=1,max=100,step=1,value=1));\n",
    "sp.atan(2-sp.sqrt(3).evalf()).evalf()"
   ]
  },
  {
   "cell_type": "markdown",
   "metadata": {},
   "source": [
    "Vidimo da je konvergencija gore uvjetovana našim lošim aproksimiranjem argumenta, ali i trebamo primijetiti koliko red dobro konvergira - za argument $\\frac{1}{\\sqrt{3}}$ dobivamo 13-tak znamenki u 25 iteracija, a za još manji argument $2-\\sqrt{3}$ dobivamo konvergenciju već za 12 iteracija.\n",
    "\n",
    "Ustvari, matematičari iz Kerala škole su upravo pomoću gornje formule za argument $\\frac{1}{\\sqrt{3}}$ računali $\\pi$."
   ]
  },
  {
   "cell_type": "markdown",
   "metadata": {},
   "source": [
    "U gornjim primjerima smo koristili to da za manje argumente red brže konvergira. No, može li se konvergencija reda za $arctan(1)$ popraviti pa da i taj red služi računu? Koristit ćemo dva algoritma iz sympy-ja. Ti algoritmi će nam dati malo bolje inačice redova koje će brže konvergirati.\n",
    "\n",
    "Promotrimo obični Leibnizov red:"
   ]
  },
  {
   "cell_type": "code",
   "execution_count": 146,
   "metadata": {},
   "outputs": [
    {
     "name": "stdout",
     "output_type": "stream",
     "text": [
      "0.7879233515\n",
      "0.7828982259\n",
      "0.785398163397448\n"
     ]
    }
   ],
   "source": [
    "from sympy.abc import k, n\n",
    "from sympy import Sum\n",
    "A = Sum((-1)**(k+1)*(2*k-1)**-1, (k, 1, n))\n",
    "print(round(A.subs(n, 99).evalf(), 10))\n",
    "print(round(A.subs(n, 100).evalf(), 10))\n",
    "print((sp.pi/4).evalf())"
   ]
  },
  {
   "cell_type": "markdown",
   "metadata": {},
   "source": [
    "Usput vidimo da bi usrednjavanje sume do $99$. i $100$. člana dalo sasvim bolju aproksimaciju. Usrednjivanje je još jedan način ubrzanja konvergencije alternirajućih redova.\n",
    "\n",
    "Kako bilo, pokušajmo sada Shanksovo ubrzanje:"
   ]
  },
  {
   "cell_type": "code",
   "execution_count": 161,
   "metadata": {},
   "outputs": [
    {
     "name": "stdout",
     "output_type": "stream",
     "text": [
      "0.7853982259\n",
      "0.7853981634\n"
     ]
    }
   ],
   "source": [
    "from sympy.series.acceleration import shanks\n",
    "print(round(shanks(A, n, 100).evalf(), 10))\n",
    "print(round(((sp.pi)/4).evalf(), 10))     # Exact value"
   ]
  },
  {
   "cell_type": "markdown",
   "metadata": {},
   "source": [
    "I vidimo da je konvergencija daleko bolja."
   ]
  },
  {
   "cell_type": "markdown",
   "metadata": {},
   "source": [
    "## Random metode aproksimacije"
   ]
  },
  {
   "cell_type": "markdown",
   "metadata": {},
   "source": [
    "Dalje tokom povijesti su se koristile razno razne metode poput Machinovih formula i puno boljih redova poput Ramanujanovog, ili još boljeg od braće Chudnovsky. Svi ti algoritmi su u suštini isti (Machin formule se isto računaju pomoću redova za $arctan$). Vrlo zanimljiva metoda za računanje $pi$-ja, iako slabo efektivna je slučajna metoda. Ako znamo da vjerojatnost nečega treba biti oko $\\pi$ (tj. naravno oko nekog multipla od $\\pi$ između 0-1), onda možemo se nadati u dovoljno mnogo pokušaja dobiti $pi$ s nekom točnosti.\n",
    "\n",
    "Ideja je simulirati pikado. Slučajno bacamo točke, npr. u kvadratu $[0,1]*[0,1]$ i pazimo kada će upasti u upisani krug."
   ]
  },
  {
   "cell_type": "code",
   "execution_count": 13,
   "metadata": {},
   "outputs": [
    {
     "name": "stdout",
     "output_type": "stream",
     "text": [
      "3.28\n"
     ]
    },
    {
     "data": {
      "image/png": "[encoded data removed]",
      "text/plain": [
       "<matplotlib.figure.Figure at 0x9177b10>"
      ]
     },
     "metadata": {},
     "output_type": "display_data"
    }
   ],
   "source": [
    "import random as rand\n",
    "import math as math\n",
    "import numpy as np\n",
    "import matplotlib.pyplot as plt\n",
    "%matplotlib inline\n",
    "\n",
    "ukupno = 100\n",
    "unutra = 0\n",
    "\n",
    "x_array = np.empty(shape=(1,ukupno))\n",
    "y_array = np.empty(shape=(1,ukupno))\n",
    "\n",
    "# Iterate for the number of darts.\n",
    "for i in range(0, ukupno):\n",
    "    # Generate random x, y in [0, 1].\n",
    "    x = rand.random()\n",
    "    y = rand.random()\n",
    "    x_array = np.append(x_plot_array, [x])\n",
    "    y_array = np.append(y_plot_array, [y])\n",
    "    # Increment if inside unit circle.\n",
    "    if math.sqrt(x**2 + y**2) < 1.0:\n",
    "        unutra += 1\n",
    "\n",
    "# inside / total = pi / 4\n",
    "pi = (float(unutra) / ukupno) * 4\n",
    "\n",
    "# It works!\n",
    "print(pi)\n",
    "\n",
    "#treba popraviti, ne radi ispravno\n",
    "fig, ax = plt.subplots()\n",
    "random_points_plot = plt.scatter(x_array, y_array, color='blue', s=.1)\n",
    "circle_plot = plt.Circle( ( 0, 0 ), 1, color='red', linewidth=2, fill=False)\n",
    "ax.add_artist(randomtocke)\n",
    "\n",
    "plt.show()"
   ]
  },
  {
   "cell_type": "markdown",
   "metadata": {},
   "source": [
    "Vidimo da je konvergencija poprilično slaba."
   ]
  },
  {
   "cell_type": "code",
   "execution_count": null,
   "metadata": {},
   "outputs": [],
   "source": []
  }
 ],
 "metadata": {
  "kernelspec": {
   "display_name": "Python 2",
   "language": "python",
   "name": "python2"
  },
  "language_info": {
   "codemirror_mode": {
    "name": "ipython",
    "version": 2
   },
   "file_extension": ".py",
   "mimetype": "text/x-python",
   "name": "python",
   "nbconvert_exporter": "python",
   "pygments_lexer": "ipython2",
   "version": "2.7.10"
  }
 },
 "nbformat": 4,
 "nbformat_minor": 1
}
